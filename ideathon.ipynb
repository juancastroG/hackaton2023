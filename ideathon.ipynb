{
  "nbformat": 4,
  "nbformat_minor": 0,
  "metadata": {
    "colab": {
      "provenance": []
    },
    "kernelspec": {
      "name": "python3",
      "display_name": "Python 3"
    },
    "language_info": {
      "name": "python"
    }
  },
  "cells": [
    {
      "cell_type": "code",
      "execution_count": null,
      "metadata": {
        "colab": {
          "base_uri": "https://localhost:8080/",
          "height": 542
        },
        "id": "rrq1cFDn2ke8",
        "outputId": "80bbfbd2-092f-4d4d-b952-4ed8ed556306"
      },
      "outputs": [
        {
          "output_type": "execute_result",
          "data": {
            "text/plain": [
              "                    FECHA DEPARTAMENTO     MUNICIPIO  \\\n",
              "0  01/01/2019 12:00:00 AM    ANTIOQUIA  SAN JERONIMO   \n",
              "1  01/01/2019 12:00:00 AM    RISARALDA      MARSELLA   \n",
              "2  01/01/2019 12:00:00 AM    ANTIOQUIA          ANZA   \n",
              "3  01/01/2019 12:00:00 AM    ANTIOQUIA    MONTEBELLO   \n",
              "4  01/01/2019 12:00:00 AM    ANTIOQUIA      CAUCASIA   \n",
              "\n",
              "                          EVENTO  DIVIPOLA  FALLECIDOS  HERIDOS  \\\n",
              "0           INCENDIO ESTRUCTURAL      5656           0        0   \n",
              "1                      INMERSION     66440           1        0   \n",
              "2  INCENDIO DE COBERTURA VEGETAL      5044           0        0   \n",
              "3  INCENDIO DE COBERTURA VEGETAL      5467           0        0   \n",
              "4           INCENDIO ESTRUCTURAL      5154           0        1   \n",
              "\n",
              "   DESAPARECIDOS  PERSONAS  FAMILIAS  ...  VALOR BIG BAG  CANTIDAD CEMENTO  \\\n",
              "0              0         5         1  ...       $    - 0                 0   \n",
              "1              0         1         0  ...       $    - 0                 0   \n",
              "2              0         0         0  ...       $    - 0                 0   \n",
              "3              0         0         0  ...       $    - 0                 0   \n",
              "4              0         1         1  ...       $    - 0                 0   \n",
              "\n",
              "   VALOR CEMENTO  CANTIDAD TEJAS DE ZINC  VALOR TEJAS DE ZINC  \\\n",
              "0       $    - 0                       0             $    - 0   \n",
              "1       $    - 0                       0             $    - 0   \n",
              "2       $    - 0                       0             $    - 0   \n",
              "3       $    - 0                       0             $    - 0   \n",
              "4       $    - 0                       0             $    - 0   \n",
              "\n",
              "   CANTIDAD TEJAS DE FIBROCEMENTO  VALOR TEJAS DE FIBROCEMENTO  \\\n",
              "0                               0                     $    - 0   \n",
              "1                               0                     $    - 0   \n",
              "2                               0                     $    - 0   \n",
              "3                               0                     $    - 0   \n",
              "4                               0                     $    - 0   \n",
              "\n",
              "   DESCRIPCION MATERIALES DE CONSTRUCCION  VALOR MATERIALES DE CONSTRUCCION  \\\n",
              "0                             No registra                          $    - 0   \n",
              "1                             No registra                          $    - 0   \n",
              "2                             No registra                          $    - 0   \n",
              "3                             No registra                          $    - 0   \n",
              "4                             No registra                          $    - 0   \n",
              "\n",
              "   VALOR TOTAL  APOYO DEL FNGRD  \n",
              "0                      $    - 0  \n",
              "1                      $    - 0  \n",
              "2                      $    - 0  \n",
              "3                      $    - 0  \n",
              "4                      $    - 0  \n",
              "\n",
              "[5 rows x 73 columns]"
            ],
            "text/html": [
              "\n",
              "  <div id=\"df-828cd520-11e3-45f3-9ac0-3f162de58e92\">\n",
              "    <div class=\"colab-df-container\">\n",
              "      <div>\n",
              "<style scoped>\n",
              "    .dataframe tbody tr th:only-of-type {\n",
              "        vertical-align: middle;\n",
              "    }\n",
              "\n",
              "    .dataframe tbody tr th {\n",
              "        vertical-align: top;\n",
              "    }\n",
              "\n",
              "    .dataframe thead th {\n",
              "        text-align: right;\n",
              "    }\n",
              "</style>\n",
              "<table border=\"1\" class=\"dataframe\">\n",
              "  <thead>\n",
              "    <tr style=\"text-align: right;\">\n",
              "      <th></th>\n",
              "      <th>FECHA</th>\n",
              "      <th>DEPARTAMENTO</th>\n",
              "      <th>MUNICIPIO</th>\n",
              "      <th>EVENTO</th>\n",
              "      <th>DIVIPOLA</th>\n",
              "      <th>FALLECIDOS</th>\n",
              "      <th>HERIDOS</th>\n",
              "      <th>DESAPARECIDOS</th>\n",
              "      <th>PERSONAS</th>\n",
              "      <th>FAMILIAS</th>\n",
              "      <th>...</th>\n",
              "      <th>VALOR BIG BAG</th>\n",
              "      <th>CANTIDAD CEMENTO</th>\n",
              "      <th>VALOR CEMENTO</th>\n",
              "      <th>CANTIDAD TEJAS DE ZINC</th>\n",
              "      <th>VALOR TEJAS DE ZINC</th>\n",
              "      <th>CANTIDAD TEJAS DE FIBROCEMENTO</th>\n",
              "      <th>VALOR TEJAS DE FIBROCEMENTO</th>\n",
              "      <th>DESCRIPCION MATERIALES DE CONSTRUCCION</th>\n",
              "      <th>VALOR MATERIALES DE CONSTRUCCION</th>\n",
              "      <th>VALOR TOTAL  APOYO DEL FNGRD</th>\n",
              "    </tr>\n",
              "  </thead>\n",
              "  <tbody>\n",
              "    <tr>\n",
              "      <th>0</th>\n",
              "      <td>01/01/2019 12:00:00 AM</td>\n",
              "      <td>ANTIOQUIA</td>\n",
              "      <td>SAN JERONIMO</td>\n",
              "      <td>INCENDIO ESTRUCTURAL</td>\n",
              "      <td>5656</td>\n",
              "      <td>0</td>\n",
              "      <td>0</td>\n",
              "      <td>0</td>\n",
              "      <td>5</td>\n",
              "      <td>1</td>\n",
              "      <td>...</td>\n",
              "      <td>$    - 0</td>\n",
              "      <td>0</td>\n",
              "      <td>$    - 0</td>\n",
              "      <td>0</td>\n",
              "      <td>$    - 0</td>\n",
              "      <td>0</td>\n",
              "      <td>$    - 0</td>\n",
              "      <td>No registra</td>\n",
              "      <td>$    - 0</td>\n",
              "      <td>$    - 0</td>\n",
              "    </tr>\n",
              "    <tr>\n",
              "      <th>1</th>\n",
              "      <td>01/01/2019 12:00:00 AM</td>\n",
              "      <td>RISARALDA</td>\n",
              "      <td>MARSELLA</td>\n",
              "      <td>INMERSION</td>\n",
              "      <td>66440</td>\n",
              "      <td>1</td>\n",
              "      <td>0</td>\n",
              "      <td>0</td>\n",
              "      <td>1</td>\n",
              "      <td>0</td>\n",
              "      <td>...</td>\n",
              "      <td>$    - 0</td>\n",
              "      <td>0</td>\n",
              "      <td>$    - 0</td>\n",
              "      <td>0</td>\n",
              "      <td>$    - 0</td>\n",
              "      <td>0</td>\n",
              "      <td>$    - 0</td>\n",
              "      <td>No registra</td>\n",
              "      <td>$    - 0</td>\n",
              "      <td>$    - 0</td>\n",
              "    </tr>\n",
              "    <tr>\n",
              "      <th>2</th>\n",
              "      <td>01/01/2019 12:00:00 AM</td>\n",
              "      <td>ANTIOQUIA</td>\n",
              "      <td>ANZA</td>\n",
              "      <td>INCENDIO DE COBERTURA VEGETAL</td>\n",
              "      <td>5044</td>\n",
              "      <td>0</td>\n",
              "      <td>0</td>\n",
              "      <td>0</td>\n",
              "      <td>0</td>\n",
              "      <td>0</td>\n",
              "      <td>...</td>\n",
              "      <td>$    - 0</td>\n",
              "      <td>0</td>\n",
              "      <td>$    - 0</td>\n",
              "      <td>0</td>\n",
              "      <td>$    - 0</td>\n",
              "      <td>0</td>\n",
              "      <td>$    - 0</td>\n",
              "      <td>No registra</td>\n",
              "      <td>$    - 0</td>\n",
              "      <td>$    - 0</td>\n",
              "    </tr>\n",
              "    <tr>\n",
              "      <th>3</th>\n",
              "      <td>01/01/2019 12:00:00 AM</td>\n",
              "      <td>ANTIOQUIA</td>\n",
              "      <td>MONTEBELLO</td>\n",
              "      <td>INCENDIO DE COBERTURA VEGETAL</td>\n",
              "      <td>5467</td>\n",
              "      <td>0</td>\n",
              "      <td>0</td>\n",
              "      <td>0</td>\n",
              "      <td>0</td>\n",
              "      <td>0</td>\n",
              "      <td>...</td>\n",
              "      <td>$    - 0</td>\n",
              "      <td>0</td>\n",
              "      <td>$    - 0</td>\n",
              "      <td>0</td>\n",
              "      <td>$    - 0</td>\n",
              "      <td>0</td>\n",
              "      <td>$    - 0</td>\n",
              "      <td>No registra</td>\n",
              "      <td>$    - 0</td>\n",
              "      <td>$    - 0</td>\n",
              "    </tr>\n",
              "    <tr>\n",
              "      <th>4</th>\n",
              "      <td>01/01/2019 12:00:00 AM</td>\n",
              "      <td>ANTIOQUIA</td>\n",
              "      <td>CAUCASIA</td>\n",
              "      <td>INCENDIO ESTRUCTURAL</td>\n",
              "      <td>5154</td>\n",
              "      <td>0</td>\n",
              "      <td>1</td>\n",
              "      <td>0</td>\n",
              "      <td>1</td>\n",
              "      <td>1</td>\n",
              "      <td>...</td>\n",
              "      <td>$    - 0</td>\n",
              "      <td>0</td>\n",
              "      <td>$    - 0</td>\n",
              "      <td>0</td>\n",
              "      <td>$    - 0</td>\n",
              "      <td>0</td>\n",
              "      <td>$    - 0</td>\n",
              "      <td>No registra</td>\n",
              "      <td>$    - 0</td>\n",
              "      <td>$    - 0</td>\n",
              "    </tr>\n",
              "  </tbody>\n",
              "</table>\n",
              "<p>5 rows × 73 columns</p>\n",
              "</div>\n",
              "      <button class=\"colab-df-convert\" onclick=\"convertToInteractive('df-828cd520-11e3-45f3-9ac0-3f162de58e92')\"\n",
              "              title=\"Convert this dataframe to an interactive table.\"\n",
              "              style=\"display:none;\">\n",
              "        \n",
              "  <svg xmlns=\"http://www.w3.org/2000/svg\" height=\"24px\"viewBox=\"0 0 24 24\"\n",
              "       width=\"24px\">\n",
              "    <path d=\"M0 0h24v24H0V0z\" fill=\"none\"/>\n",
              "    <path d=\"M18.56 5.44l.94 2.06.94-2.06 2.06-.94-2.06-.94-.94-2.06-.94 2.06-2.06.94zm-11 1L8.5 8.5l.94-2.06 2.06-.94-2.06-.94L8.5 2.5l-.94 2.06-2.06.94zm10 10l.94 2.06.94-2.06 2.06-.94-2.06-.94-.94-2.06-.94 2.06-2.06.94z\"/><path d=\"M17.41 7.96l-1.37-1.37c-.4-.4-.92-.59-1.43-.59-.52 0-1.04.2-1.43.59L10.3 9.45l-7.72 7.72c-.78.78-.78 2.05 0 2.83L4 21.41c.39.39.9.59 1.41.59.51 0 1.02-.2 1.41-.59l7.78-7.78 2.81-2.81c.8-.78.8-2.07 0-2.86zM5.41 20L4 18.59l7.72-7.72 1.47 1.35L5.41 20z\"/>\n",
              "  </svg>\n",
              "      </button>\n",
              "      \n",
              "  <style>\n",
              "    .colab-df-container {\n",
              "      display:flex;\n",
              "      flex-wrap:wrap;\n",
              "      gap: 12px;\n",
              "    }\n",
              "\n",
              "    .colab-df-convert {\n",
              "      background-color: #E8F0FE;\n",
              "      border: none;\n",
              "      border-radius: 50%;\n",
              "      cursor: pointer;\n",
              "      display: none;\n",
              "      fill: #1967D2;\n",
              "      height: 32px;\n",
              "      padding: 0 0 0 0;\n",
              "      width: 32px;\n",
              "    }\n",
              "\n",
              "    .colab-df-convert:hover {\n",
              "      background-color: #E2EBFA;\n",
              "      box-shadow: 0px 1px 2px rgba(60, 64, 67, 0.3), 0px 1px 3px 1px rgba(60, 64, 67, 0.15);\n",
              "      fill: #174EA6;\n",
              "    }\n",
              "\n",
              "    [theme=dark] .colab-df-convert {\n",
              "      background-color: #3B4455;\n",
              "      fill: #D2E3FC;\n",
              "    }\n",
              "\n",
              "    [theme=dark] .colab-df-convert:hover {\n",
              "      background-color: #434B5C;\n",
              "      box-shadow: 0px 1px 3px 1px rgba(0, 0, 0, 0.15);\n",
              "      filter: drop-shadow(0px 1px 2px rgba(0, 0, 0, 0.3));\n",
              "      fill: #FFFFFF;\n",
              "    }\n",
              "  </style>\n",
              "\n",
              "      <script>\n",
              "        const buttonEl =\n",
              "          document.querySelector('#df-828cd520-11e3-45f3-9ac0-3f162de58e92 button.colab-df-convert');\n",
              "        buttonEl.style.display =\n",
              "          google.colab.kernel.accessAllowed ? 'block' : 'none';\n",
              "\n",
              "        async function convertToInteractive(key) {\n",
              "          const element = document.querySelector('#df-828cd520-11e3-45f3-9ac0-3f162de58e92');\n",
              "          const dataTable =\n",
              "            await google.colab.kernel.invokeFunction('convertToInteractive',\n",
              "                                                     [key], {});\n",
              "          if (!dataTable) return;\n",
              "\n",
              "          const docLinkHtml = 'Like what you see? Visit the ' +\n",
              "            '<a target=\"_blank\" href=https://colab.research.google.com/notebooks/data_table.ipynb>data table notebook</a>'\n",
              "            + ' to learn more about interactive tables.';\n",
              "          element.innerHTML = '';\n",
              "          dataTable['output_type'] = 'display_data';\n",
              "          await google.colab.output.renderOutput(dataTable, element);\n",
              "          const docLink = document.createElement('div');\n",
              "          docLink.innerHTML = docLinkHtml;\n",
              "          element.appendChild(docLink);\n",
              "        }\n",
              "      </script>\n",
              "    </div>\n",
              "  </div>\n",
              "  "
            ]
          },
          "metadata": {},
          "execution_count": 219
        }
      ],
      "source": [
        "import pandas as pd\n",
        "import numpy as np\n",
        "import matplotlib.pyplot as plt\n",
        "%matplotlib inline\n",
        "\n",
        "#datos 2019 arriba\n",
        "datos= pd.read_csv(\"Emergencias_UNGRD.csv\")\n",
        "datos.head()"
      ]
    },
    {
      "cell_type": "code",
      "source": [
        "datos.columns\n",
        "datosValores=datos.drop(datos.columns[9:], axis=1)\n",
        "datosValores.size"
      ],
      "metadata": {
        "colab": {
          "base_uri": "https://localhost:8080/"
        },
        "id": "O7diq8hb7PQn",
        "outputId": "03ddad4c-47ed-4320-dd38-ee5e6319c0c0"
      },
      "execution_count": null,
      "outputs": [
        {
          "output_type": "execute_result",
          "data": {
            "text/plain": [
              "109728"
            ]
          },
          "metadata": {},
          "execution_count": 193
        }
      ]
    },
    {
      "cell_type": "code",
      "source": [
        "datosValores=datosValores.rename(columns={\"EVENTO\":\"TIPO DE EVENTO\", \"PERSONAS\":\"AFECTADOS\"})\n",
        "datosValores[\"TIPO DE EVENTO\"].unique()"
      ],
      "metadata": {
        "colab": {
          "base_uri": "https://localhost:8080/"
        },
        "id": "vcKVir4A7PWj",
        "outputId": "21adb4c4-79b2-45ac-b14f-4d1264fb2e10"
      },
      "execution_count": null,
      "outputs": [
        {
          "output_type": "execute_result",
          "data": {
            "text/plain": [
              "array(['INCENDIO ESTRUCTURAL', 'INMERSION',\n",
              "       'INCENDIO DE COBERTURA VEGETAL', 'COLAPSO ESTRUCTURAL',\n",
              "       'MOVIMIENTO EN MASA', 'ACCIDENTE MINERO',\n",
              "       'ACCIDENTE TRANSPORTE TERRESTRE', 'GRANIZADA',\n",
              "       'ACCIDENTE TRANSPORTE MARITIMO O FLUVIAL', 'VENDAVAL',\n",
              "       'INUNDACION', 'OTROS', 'EROSION', 'EXPLOSION',\n",
              "       'AGLOMERACIÓN DE PÚBLICO', 'ACTIVACIÓN VOLCANICA', 'FUGA',\n",
              "       'ACCIDENTE TECNOLOGICO', 'AVENIDA TORRENCIAL', 'DERRAME',\n",
              "       'INCENDIO', 'SEQUIA', 'ACCIDENTE TRANSPORTE AEREO',\n",
              "       'TORMENTA ELECTRICA', 'EVENTO MAYOR', 'SISMO', 'ACCIDENTE AÉREO',\n",
              "       'TEMPORAL', 'FALLA ESTRUCTURAL', 'CASO FORTUITO',\n",
              "       'CRECIENTE SUBITA', 'ACCIDENTE', 'EROSION COSTERA', 'IMERSION',\n",
              "       'INUNDACIÓN', 'ACCIDENTE TRANSPORTE AÉREO', 'HELADA', 'CONATO',\n",
              "       'COLAPSO', 'DIAPIRISMO', 'INCENDIO VEHICULAR', 'COVID-19',\n",
              "       'INUNDACIoN', 'CICLON TROPICAL: DEPRESION/TORMENTA/HURACAN',\n",
              "       'INMERSIoN', 'QUEMA', 'LLUVIAS', 'ONDA TROPICAL',\n",
              "       'ACCIDENTE TRANSPORTE MARÍTIMO O FLUVIAL'], dtype=object)"
            ]
          },
          "metadata": {},
          "execution_count": 194
        }
      ]
    },
    {
      "cell_type": "code",
      "source": [
        "#datos2018\n",
        "dataset2018=pd.read_csv(\"Emergencias_2018_-_UNGRD.csv\")\n",
        "dataset2018.columns\n",
        "dataset2018.head()\n",
        "dataset2018Valores=dataset2018.drop(dataset2018.columns[9:], axis=1)\n",
        "dataset2018Valores.size\n",
        "dataset2018Valores.head()\n",
        "\n"
      ],
      "metadata": {
        "colab": {
          "base_uri": "https://localhost:8080/",
          "height": 444
        },
        "id": "vDGKxQWIW-B5",
        "outputId": "862f9c5e-2964-46a4-f263-fb2dd7087943"
      },
      "execution_count": null,
      "outputs": [
        {
          "output_type": "execute_result",
          "data": {
            "text/plain": [
              "                    FECHA  DEPARTAMENTO   MUNICIPIO     TIPO DE EVENTO  \\\n",
              "0  01/01/2018 12:00:00 AM        BOYACA    GUATEQUE  INCENDIO FORESTAL   \n",
              "1  01/01/2018 12:00:00 AM  CUNDINAMARCA      GUASCA      DESLIZAMIENTO   \n",
              "2  01/01/2018 12:00:00 AM       QUINDIO  MONTENEGRO      DESLIZAMIENTO   \n",
              "3  01/02/2018 12:00:00 AM     ANTIOQUIA       ANORI      DESLIZAMIENTO   \n",
              "4  01/02/2018 12:00:00 AM         CHOCO       LLORO  ACCIDENTE FLUVIAL   \n",
              "\n",
              "   DIVIPOLA  FALLECIDOS  HERIDOS  DESAPARECIDOS  AFECTADOS  \n",
              "0   15322.0           0        0              0          0  \n",
              "1   25322.0           0        0              0          0  \n",
              "2   63470.0           0        1              0          1  \n",
              "3    5040.0           0        0              0         15  \n",
              "4   27413.0           2        0              0          2  "
            ],
            "text/html": [
              "\n",
              "  <div id=\"df-27e15ea2-f2ce-4631-8b19-d6a4e763dec9\">\n",
              "    <div class=\"colab-df-container\">\n",
              "      <div>\n",
              "<style scoped>\n",
              "    .dataframe tbody tr th:only-of-type {\n",
              "        vertical-align: middle;\n",
              "    }\n",
              "\n",
              "    .dataframe tbody tr th {\n",
              "        vertical-align: top;\n",
              "    }\n",
              "\n",
              "    .dataframe thead th {\n",
              "        text-align: right;\n",
              "    }\n",
              "</style>\n",
              "<table border=\"1\" class=\"dataframe\">\n",
              "  <thead>\n",
              "    <tr style=\"text-align: right;\">\n",
              "      <th></th>\n",
              "      <th>FECHA</th>\n",
              "      <th>DEPARTAMENTO</th>\n",
              "      <th>MUNICIPIO</th>\n",
              "      <th>TIPO DE EVENTO</th>\n",
              "      <th>DIVIPOLA</th>\n",
              "      <th>FALLECIDOS</th>\n",
              "      <th>HERIDOS</th>\n",
              "      <th>DESAPARECIDOS</th>\n",
              "      <th>AFECTADOS</th>\n",
              "    </tr>\n",
              "  </thead>\n",
              "  <tbody>\n",
              "    <tr>\n",
              "      <th>0</th>\n",
              "      <td>01/01/2018 12:00:00 AM</td>\n",
              "      <td>BOYACA</td>\n",
              "      <td>GUATEQUE</td>\n",
              "      <td>INCENDIO FORESTAL</td>\n",
              "      <td>15322.0</td>\n",
              "      <td>0</td>\n",
              "      <td>0</td>\n",
              "      <td>0</td>\n",
              "      <td>0</td>\n",
              "    </tr>\n",
              "    <tr>\n",
              "      <th>1</th>\n",
              "      <td>01/01/2018 12:00:00 AM</td>\n",
              "      <td>CUNDINAMARCA</td>\n",
              "      <td>GUASCA</td>\n",
              "      <td>DESLIZAMIENTO</td>\n",
              "      <td>25322.0</td>\n",
              "      <td>0</td>\n",
              "      <td>0</td>\n",
              "      <td>0</td>\n",
              "      <td>0</td>\n",
              "    </tr>\n",
              "    <tr>\n",
              "      <th>2</th>\n",
              "      <td>01/01/2018 12:00:00 AM</td>\n",
              "      <td>QUINDIO</td>\n",
              "      <td>MONTENEGRO</td>\n",
              "      <td>DESLIZAMIENTO</td>\n",
              "      <td>63470.0</td>\n",
              "      <td>0</td>\n",
              "      <td>1</td>\n",
              "      <td>0</td>\n",
              "      <td>1</td>\n",
              "    </tr>\n",
              "    <tr>\n",
              "      <th>3</th>\n",
              "      <td>01/02/2018 12:00:00 AM</td>\n",
              "      <td>ANTIOQUIA</td>\n",
              "      <td>ANORI</td>\n",
              "      <td>DESLIZAMIENTO</td>\n",
              "      <td>5040.0</td>\n",
              "      <td>0</td>\n",
              "      <td>0</td>\n",
              "      <td>0</td>\n",
              "      <td>15</td>\n",
              "    </tr>\n",
              "    <tr>\n",
              "      <th>4</th>\n",
              "      <td>01/02/2018 12:00:00 AM</td>\n",
              "      <td>CHOCO</td>\n",
              "      <td>LLORO</td>\n",
              "      <td>ACCIDENTE FLUVIAL</td>\n",
              "      <td>27413.0</td>\n",
              "      <td>2</td>\n",
              "      <td>0</td>\n",
              "      <td>0</td>\n",
              "      <td>2</td>\n",
              "    </tr>\n",
              "  </tbody>\n",
              "</table>\n",
              "</div>\n",
              "      <button class=\"colab-df-convert\" onclick=\"convertToInteractive('df-27e15ea2-f2ce-4631-8b19-d6a4e763dec9')\"\n",
              "              title=\"Convert this dataframe to an interactive table.\"\n",
              "              style=\"display:none;\">\n",
              "        \n",
              "  <svg xmlns=\"http://www.w3.org/2000/svg\" height=\"24px\"viewBox=\"0 0 24 24\"\n",
              "       width=\"24px\">\n",
              "    <path d=\"M0 0h24v24H0V0z\" fill=\"none\"/>\n",
              "    <path d=\"M18.56 5.44l.94 2.06.94-2.06 2.06-.94-2.06-.94-.94-2.06-.94 2.06-2.06.94zm-11 1L8.5 8.5l.94-2.06 2.06-.94-2.06-.94L8.5 2.5l-.94 2.06-2.06.94zm10 10l.94 2.06.94-2.06 2.06-.94-2.06-.94-.94-2.06-.94 2.06-2.06.94z\"/><path d=\"M17.41 7.96l-1.37-1.37c-.4-.4-.92-.59-1.43-.59-.52 0-1.04.2-1.43.59L10.3 9.45l-7.72 7.72c-.78.78-.78 2.05 0 2.83L4 21.41c.39.39.9.59 1.41.59.51 0 1.02-.2 1.41-.59l7.78-7.78 2.81-2.81c.8-.78.8-2.07 0-2.86zM5.41 20L4 18.59l7.72-7.72 1.47 1.35L5.41 20z\"/>\n",
              "  </svg>\n",
              "      </button>\n",
              "      \n",
              "  <style>\n",
              "    .colab-df-container {\n",
              "      display:flex;\n",
              "      flex-wrap:wrap;\n",
              "      gap: 12px;\n",
              "    }\n",
              "\n",
              "    .colab-df-convert {\n",
              "      background-color: #E8F0FE;\n",
              "      border: none;\n",
              "      border-radius: 50%;\n",
              "      cursor: pointer;\n",
              "      display: none;\n",
              "      fill: #1967D2;\n",
              "      height: 32px;\n",
              "      padding: 0 0 0 0;\n",
              "      width: 32px;\n",
              "    }\n",
              "\n",
              "    .colab-df-convert:hover {\n",
              "      background-color: #E2EBFA;\n",
              "      box-shadow: 0px 1px 2px rgba(60, 64, 67, 0.3), 0px 1px 3px 1px rgba(60, 64, 67, 0.15);\n",
              "      fill: #174EA6;\n",
              "    }\n",
              "\n",
              "    [theme=dark] .colab-df-convert {\n",
              "      background-color: #3B4455;\n",
              "      fill: #D2E3FC;\n",
              "    }\n",
              "\n",
              "    [theme=dark] .colab-df-convert:hover {\n",
              "      background-color: #434B5C;\n",
              "      box-shadow: 0px 1px 3px 1px rgba(0, 0, 0, 0.15);\n",
              "      filter: drop-shadow(0px 1px 2px rgba(0, 0, 0, 0.3));\n",
              "      fill: #FFFFFF;\n",
              "    }\n",
              "  </style>\n",
              "\n",
              "      <script>\n",
              "        const buttonEl =\n",
              "          document.querySelector('#df-27e15ea2-f2ce-4631-8b19-d6a4e763dec9 button.colab-df-convert');\n",
              "        buttonEl.style.display =\n",
              "          google.colab.kernel.accessAllowed ? 'block' : 'none';\n",
              "\n",
              "        async function convertToInteractive(key) {\n",
              "          const element = document.querySelector('#df-27e15ea2-f2ce-4631-8b19-d6a4e763dec9');\n",
              "          const dataTable =\n",
              "            await google.colab.kernel.invokeFunction('convertToInteractive',\n",
              "                                                     [key], {});\n",
              "          if (!dataTable) return;\n",
              "\n",
              "          const docLinkHtml = 'Like what you see? Visit the ' +\n",
              "            '<a target=\"_blank\" href=https://colab.research.google.com/notebooks/data_table.ipynb>data table notebook</a>'\n",
              "            + ' to learn more about interactive tables.';\n",
              "          element.innerHTML = '';\n",
              "          dataTable['output_type'] = 'display_data';\n",
              "          await google.colab.output.renderOutput(dataTable, element);\n",
              "          const docLink = document.createElement('div');\n",
              "          docLink.innerHTML = docLinkHtml;\n",
              "          element.appendChild(docLink);\n",
              "        }\n",
              "      </script>\n",
              "    </div>\n",
              "  </div>\n",
              "  "
            ]
          },
          "metadata": {},
          "execution_count": 195
        }
      ]
    },
    {
      "cell_type": "code",
      "source": [
        "#datos de inundaciones 2018\n",
        "dataset2018Valores= dataset2018Valores[dataset2018Valores['TIPO DE EVENTO']=='INUNDACIÓN']\n",
        "len(dataset2018Valores)"
      ],
      "metadata": {
        "colab": {
          "base_uri": "https://localhost:8080/"
        },
        "id": "mcAboJpm3Kmt",
        "outputId": "474e41f1-a985-4908-ef8e-f94423bd73e8"
      },
      "execution_count": null,
      "outputs": [
        {
          "output_type": "execute_result",
          "data": {
            "text/plain": [
              "493"
            ]
          },
          "metadata": {},
          "execution_count": 272
        }
      ]
    },
    {
      "cell_type": "code",
      "source": [
        "#datos de inundaciones de 2019-2021\n",
        "\n",
        "datosValores = datosValores.replace(\"INUNDACIoN\", \"INUNDACION\")\n",
        "datosValores= datosValores[datosValores['TIPO DE EVENTO']=='INUNDACION']\n",
        "datosValores = datosValores.replace(\"INUNDACION\", \"INUNDACIÓN\")\n",
        "\n",
        "datosValores.size"
      ],
      "metadata": {
        "colab": {
          "base_uri": "https://localhost:8080/"
        },
        "id": "3R5MXTko4BGO",
        "outputId": "c576a533-480b-4a88-e53c-03a4053ab7f6"
      },
      "execution_count": null,
      "outputs": [
        {
          "output_type": "execute_result",
          "data": {
            "text/plain": [
              "14688"
            ]
          },
          "metadata": {},
          "execution_count": 197
        }
      ]
    },
    {
      "cell_type": "code",
      "source": [
        "#unir los dos datasets (datos del 2018-2021)\n",
        "datasetTotal=pd.concat([dataset2018Valores, datosValores])\n",
        "datasetTotal.columns"
      ],
      "metadata": {
        "colab": {
          "base_uri": "https://localhost:8080/"
        },
        "id": "LfNybWaK1t4D",
        "outputId": "bd9fbff0-ee26-4cb5-9466-6d8a9555efb5"
      },
      "execution_count": null,
      "outputs": [
        {
          "output_type": "execute_result",
          "data": {
            "text/plain": [
              "Index(['FECHA', 'DEPARTAMENTO', 'MUNICIPIO', 'TIPO DE EVENTO', 'DIVIPOLA',\n",
              "       'FALLECIDOS', 'HERIDOS', 'DESAPARECIDOS', 'AFECTADOS'],\n",
              "      dtype='object')"
            ]
          },
          "metadata": {},
          "execution_count": 198
        }
      ]
    },
    {
      "cell_type": "code",
      "source": [
        "datasetTotal[\"TIPO DE EVENTO\"].unique()\n",
        "len(datasetTotal)"
      ],
      "metadata": {
        "colab": {
          "base_uri": "https://localhost:8080/"
        },
        "id": "1YRD_1Xw8XwN",
        "outputId": "992750a0-ca25-4681-bf1a-3123fca574a8"
      },
      "execution_count": null,
      "outputs": [
        {
          "output_type": "execute_result",
          "data": {
            "text/plain": [
              "2123"
            ]
          },
          "metadata": {},
          "execution_count": 271
        }
      ]
    },
    {
      "cell_type": "code",
      "source": [
        "datasetTotal=datasetTotal.dropna()\n",
        "#valores nan eliminados = 19125-19107=18\n",
        "datasetTotal.to_csv(\"datos_inundaciones_2018_a_2021\", index=False)"
      ],
      "metadata": {
        "id": "WMGjhUFL8ltk"
      },
      "execution_count": null,
      "outputs": []
    },
    {
      "cell_type": "code",
      "source": [
        "#Ahora que el data set esta listo (2018-2021), se procede a hacer los respectivos analisis\n",
        "numEventos=datasetTotal[\"DEPARTAMENTO\"].value_counts()\n",
        "nombresX=numEventos.keys()\n",
        "tam=len(nombresX)\n",
        "print(nombresX)\n",
        "puntosX=[i for i in range(1,tam+1)]\n",
        "print(puntosX)\n",
        "puntosY=numEventos.tolist()\n",
        "print(puntosY)\n"
      ],
      "metadata": {
        "colab": {
          "base_uri": "https://localhost:8080/"
        },
        "id": "-7tk2ULRD0C0",
        "outputId": "f3ba612d-d408-4f10-f57d-18e0cba472cd"
      },
      "execution_count": null,
      "outputs": [
        {
          "output_type": "stream",
          "name": "stdout",
          "text": [
            "Index(['ANTIOQUIA', 'CUNDINAMARCA', 'CHOCO', 'META', 'SANTANDER', 'BOLIVAR',\n",
            "       'NORTE DE SANTANDER', 'SUCRE', 'NARIÑO', 'TOLIMA', 'CAUCA', 'CORDOBA',\n",
            "       'RISARALDA', 'PUTUMAYO', 'VALLE DEL CAUCA', 'CESAR', 'MAGDALENA',\n",
            "       'HUILA', 'CAQUETA', 'ARAUCA', 'LA GUAJIRA', 'CASANARE', 'BOYACA',\n",
            "       'ATLANTICO', 'QUINDIO', 'VICHADA', 'CALDAS', 'GUAVIARE', 'BOGOTA, D.C.',\n",
            "       'VAUPES', 'GUAINIA', 'AMAZONAS'],\n",
            "      dtype='object')\n",
            "[1, 2, 3, 4, 5, 6, 7, 8, 9, 10, 11, 12, 13, 14, 15, 16, 17, 18, 19, 20, 21, 22, 23, 24, 25, 26, 27, 28, 29, 30, 31, 32]\n",
            "[225, 223, 150, 144, 109, 102, 94, 92, 84, 78, 77, 73, 67, 62, 61, 53, 51, 49, 46, 46, 44, 37, 32, 32, 25, 15, 14, 14, 12, 8, 2, 2]\n"
          ]
        }
      ]
    },
    {
      "cell_type": "code",
      "source": [
        "plt.xlim(0,35)\n",
        "plt.grid()\n",
        "plt.xlabel(\"Codigo del departamento (ver tabla)\")\n",
        "plt.ylabel(\"Numero de inundaciones registrados en 4 años\")\n",
        "plt.scatter(puntosX,puntosY, marker=\"o\")\n",
        "plt.xticks(puntosX)\n",
        "plt.tick_params(axis='x', which='both', labelsize=3)\n",
        "plt.title(\"Numero de inundaciones registradas por departamento\")\n",
        "plt.show()\n"
      ],
      "metadata": {
        "id": "w9IKtf4FHd0d",
        "colab": {
          "base_uri": "https://localhost:8080/",
          "height": 462
        },
        "outputId": "a4a23de6-0286-4306-cb86-594e324fc284"
      },
      "execution_count": null,
      "outputs": [
        {
          "output_type": "display_data",
          "data": {
            "text/plain": [
              "<Figure size 640x480 with 1 Axes>"
            ],
            "image/png": "[encoded data removed]"
          },
          "metadata": {}
        }
      ]
    },
    {
      "cell_type": "code",
      "source": [
        "#Tabla de departamentos \n",
        "dictDatos={\"Codigo\":puntosX, \"Departamento\":nombresX, \"Numero de inundaciones\": puntosY}\n",
        "datasetDepartamentos=pd.DataFrame(dictDatos)\n",
        "\n",
        "datasetDepartamentos.head(32)\n",
        "\n",
        "datasetDepartamentos.to_csv(\"inundaciones_por_departamento_2018_a_2021\", index=False)"
      ],
      "metadata": {
        "id": "--EY_dF3K3x7"
      },
      "execution_count": null,
      "outputs": []
    },
    {
      "cell_type": "code",
      "source": [
        "#Estadisticas acerca del numerod e incidentes en los departamentos\n",
        "datasetDepartamentos.describe()\n",
        "inundacionesReportadas=datasetDepartamentos[\"Numero de inundaciones\"].sum()\n",
        "print(inundacionesReportadas)"
      ],
      "metadata": {
        "colab": {
          "base_uri": "https://localhost:8080/"
        },
        "id": "Fp9-CJv_OF5B",
        "outputId": "563a7cdc-8b6d-41c5-9416-8a7517fb662e"
      },
      "execution_count": null,
      "outputs": [
        {
          "output_type": "stream",
          "name": "stdout",
          "text": [
            "2123\n"
          ]
        }
      ]
    },
    {
      "cell_type": "code",
      "source": [
        "#numero total de fallecidos reportados\n",
        "fallecidos=datasetTotal[\"FALLECIDOS\"].sum()\n",
        "print(\"El numero aproximado de fallecidos reportados fue de: \",fallecidos)\n",
        "heridos=datasetTotal[\"HERIDOS\"].sum()\n",
        "print(\"El numero aproximado de heridos reportados fue: \",heridos)\n",
        "desaparecidos=datasetTotal[\"DESAPARECIDOS\"].sum()\n",
        "print(\"El numero aproximado de desaparecidos reportados fue: \",desaparecidos)\n",
        "afectados=datasetTotal[\"AFECTADOS\"].sum()\n",
        "print(\"El numero aproximado de afectados reportados fue: \",afectados)"
      ],
      "metadata": {
        "colab": {
          "base_uri": "https://localhost:8080/"
        },
        "id": "s993b3U6Y9KO",
        "outputId": "3e0ef5c7-69d1-4351-8c6f-5e64cb44c5f6"
      },
      "execution_count": null,
      "outputs": [
        {
          "output_type": "stream",
          "name": "stdout",
          "text": [
            "El numero aproximado de fallecidos reportados fue de:  40\n",
            "El numero aproximado de heridos reportados fue:  73\n",
            "El numero aproximado de desaparecidos reportados fue:  11\n",
            "El numero aproximado de afectados reportados fue:  1430560\n"
          ]
        }
      ]
    }
  ]
}